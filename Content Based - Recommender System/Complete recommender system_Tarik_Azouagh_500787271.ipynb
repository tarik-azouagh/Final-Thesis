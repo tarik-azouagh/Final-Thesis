{
 "cells": [
  {
   "cell_type": "markdown",
   "metadata": {},
   "source": [
    "### Cleaning scraped AH Chocolatebar data\n",
    "\n",
    "The goal is to clean the data to make a system/machine that can:\n",
    "1) Rate each individual chocolatebar based on their sustainability certificate. (The ratings are substracted from Milieu Centraal).\n",
    "2) When selecting a chocolatebar: Recommend a different chocolatebar that is sustainably more responsible with the same characteristics (based on their ingredients).\n",
    "\n",
    "I.E. when scanning a Lindt dark chocolate with hazelnut (No Certificate), the system returns: the certificates of the bar, a rating of the certificates, the raw materials used, \n",
    "and a recommendation for a more sustainable (dark) chocolate bar (with hazelnut)."
   ]
  },
  {
   "cell_type": "code",
   "execution_count": 117,
   "metadata": {},
   "outputs": [],
   "source": [
    "import numpy as np\n",
    "import pandas as pd\n",
    "import json\n",
    "from sklearn.metrics.pairwise import cosine_similarity\n",
    "from sklearn.feature_extraction.text import CountVectorizer"
   ]
  },
  {
   "cell_type": "code",
   "execution_count": 118,
   "metadata": {},
   "outputs": [],
   "source": [
    "#df = pd.read_json(r'C:\\Users\\Tarik\\Desktop\\Master Digital Driven Business\\choco1.json')\n",
    "df = pd.read_json(r'C:\\Users\\Tarik\\Desktop\\Master Digital Driven Business\\choco-AH.json')"
   ]
  },
  {
   "cell_type": "code",
   "execution_count": 119,
   "metadata": {},
   "outputs": [],
   "source": [
    "#Turn prijs, kilo_prijs, inhoud_gewicht, omschrijving, product_naam, product_id, and ingredienten into readable string variable\n",
    "df['prijs'] = [','.join(map(str, l)) for l in df['prijs']]\n",
    "df['prijs'] = df['prijs'].replace(',','', regex=True)\n",
    "df['kilo_prijs'] = df['kilo_prijs'].str[-1]\n",
    "df['kilo_prijs'] = df['kilo_prijs'].str.replace(',', '.')\n",
    "df['inhoud_gewicht'] = [','.join(map(str, l)) for l in df['inhoud_gewicht']]\n",
    "df['omschrijving'] = [','.join(map(str, l)) for l in df['omschrijving']]\n",
    "df['product_naam'] = [','.join(map(str, l)) for l in df['product_naam']]\n",
    "df['product_id'] = [','.join(map(str, l)) for l in df['product_id']]\n",
    "df['ingredienten'] = [','.join(map(str, l)) for l in df['ingredienten']]"
   ]
  },
  {
   "cell_type": "code",
   "execution_count": 120,
   "metadata": {},
   "outputs": [],
   "source": [
    "#replace empty strings with missing values\n",
    "df['product_id']=df['product_id'].str.strip().replace('',np.nan)\n",
    "df['product_id']=df['product_id'].str.strip().replace(' ',np.nan)\n",
    "df['product_naam']=df['product_naam'].str.strip().replace('',np.nan)\n",
    "df['prijs']=df['prijs'].str.strip().replace('',np.nan)\n",
    "df['kilo_prijs'] = df['kilo_prijs'].str.strip().replace('',np.nan)\n",
    "df['omschrijving']=df['omschrijving'].str.strip().replace('',np.nan)\n",
    "df['inhoud_gewicht'] = df['inhoud_gewicht'].str.strip().replace('',np.nan)\n",
    "df['ingredienten']=df['ingredienten'].str.strip().replace('',np.nan)"
   ]
  },
  {
   "cell_type": "code",
   "execution_count": 121,
   "metadata": {},
   "outputs": [],
   "source": [
    "#drop rows missing a product_id\n",
    "df = df.dropna(subset=['product_id'])\n",
    "df = df.reset_index(drop=True)"
   ]
  },
  {
   "cell_type": "code",
   "execution_count": 122,
   "metadata": {},
   "outputs": [],
   "source": [
    "#turn prijs and kilo_prijs into decimal values\n",
    "df['prijs'] = df['prijs'].astype(float)\n",
    "df['kilo_prijs'] = df['kilo_prijs'].astype(float)"
   ]
  },
  {
   "cell_type": "markdown",
   "metadata": {},
   "source": [
    "#### Getting all unique values out of the kenmerken column\n",
    "\n",
    "- Converting the lists in the column in a way that the computer can easily read the individual kenmerken (certificates)"
   ]
  },
  {
   "cell_type": "code",
   "execution_count": 123,
   "metadata": {},
   "outputs": [
    {
     "name": "stderr",
     "output_type": "stream",
     "text": [
      "C:\\Users\\Tarik\\AppData\\Local\\Temp\\ipykernel_5892\\2237496227.py:2: FutureWarning: The default dtype for empty Series will be 'object' instead of 'float64' in a future version. Specify a dtype explicitly to silence this warning.\n",
      "  kenmerken = pd.get_dummies(df['kenmerken'].apply(pd.Series).stack(dropna=False)).sum(level=0)\n",
      "C:\\Users\\Tarik\\AppData\\Local\\Temp\\ipykernel_5892\\2237496227.py:2: FutureWarning: Using the level keyword in DataFrame and Series aggregations is deprecated and will be removed in a future version. Use groupby instead. df.sum(level=1) should use df.groupby(level=1).sum().\n",
      "  kenmerken = pd.get_dummies(df['kenmerken'].apply(pd.Series).stack(dropna=False)).sum(level=0)\n"
     ]
    },
    {
     "data": {
      "text/html": [
       "<div>\n",
       "<style scoped>\n",
       "    .dataframe tbody tr th:only-of-type {\n",
       "        vertical-align: middle;\n",
       "    }\n",
       "\n",
       "    .dataframe tbody tr th {\n",
       "        vertical-align: top;\n",
       "    }\n",
       "\n",
       "    .dataframe thead th {\n",
       "        text-align: right;\n",
       "    }\n",
       "</style>\n",
       "<table border=\"1\" class=\"dataframe\">\n",
       "  <thead>\n",
       "    <tr style=\"text-align: right;\">\n",
       "      <th></th>\n",
       "      <th>Biologisch</th>\n",
       "      <th>Cocoa Horizons</th>\n",
       "      <th>Cocoa Life</th>\n",
       "      <th>Fairtrade</th>\n",
       "      <th>Papier en/of hout van gecertificeerde herkomst</th>\n",
       "      <th>Rainforest Alliance</th>\n",
       "      <th>Tony's Open Chain</th>\n",
       "      <th>UTZ</th>\n",
       "    </tr>\n",
       "  </thead>\n",
       "  <tbody>\n",
       "    <tr>\n",
       "      <th>0</th>\n",
       "      <td>0</td>\n",
       "      <td>0</td>\n",
       "      <td>0</td>\n",
       "      <td>0</td>\n",
       "      <td>0</td>\n",
       "      <td>1</td>\n",
       "      <td>0</td>\n",
       "      <td>0</td>\n",
       "    </tr>\n",
       "    <tr>\n",
       "      <th>1</th>\n",
       "      <td>0</td>\n",
       "      <td>0</td>\n",
       "      <td>0</td>\n",
       "      <td>0</td>\n",
       "      <td>0</td>\n",
       "      <td>0</td>\n",
       "      <td>0</td>\n",
       "      <td>0</td>\n",
       "    </tr>\n",
       "    <tr>\n",
       "      <th>2</th>\n",
       "      <td>0</td>\n",
       "      <td>0</td>\n",
       "      <td>1</td>\n",
       "      <td>0</td>\n",
       "      <td>0</td>\n",
       "      <td>0</td>\n",
       "      <td>0</td>\n",
       "      <td>0</td>\n",
       "    </tr>\n",
       "    <tr>\n",
       "      <th>3</th>\n",
       "      <td>0</td>\n",
       "      <td>0</td>\n",
       "      <td>0</td>\n",
       "      <td>0</td>\n",
       "      <td>0</td>\n",
       "      <td>1</td>\n",
       "      <td>1</td>\n",
       "      <td>0</td>\n",
       "    </tr>\n",
       "    <tr>\n",
       "      <th>4</th>\n",
       "      <td>0</td>\n",
       "      <td>0</td>\n",
       "      <td>0</td>\n",
       "      <td>1</td>\n",
       "      <td>0</td>\n",
       "      <td>0</td>\n",
       "      <td>0</td>\n",
       "      <td>0</td>\n",
       "    </tr>\n",
       "    <tr>\n",
       "      <th>...</th>\n",
       "      <td>...</td>\n",
       "      <td>...</td>\n",
       "      <td>...</td>\n",
       "      <td>...</td>\n",
       "      <td>...</td>\n",
       "      <td>...</td>\n",
       "      <td>...</td>\n",
       "      <td>...</td>\n",
       "    </tr>\n",
       "    <tr>\n",
       "      <th>213</th>\n",
       "      <td>0</td>\n",
       "      <td>0</td>\n",
       "      <td>0</td>\n",
       "      <td>1</td>\n",
       "      <td>0</td>\n",
       "      <td>0</td>\n",
       "      <td>0</td>\n",
       "      <td>0</td>\n",
       "    </tr>\n",
       "    <tr>\n",
       "      <th>214</th>\n",
       "      <td>0</td>\n",
       "      <td>0</td>\n",
       "      <td>0</td>\n",
       "      <td>0</td>\n",
       "      <td>0</td>\n",
       "      <td>1</td>\n",
       "      <td>0</td>\n",
       "      <td>0</td>\n",
       "    </tr>\n",
       "    <tr>\n",
       "      <th>215</th>\n",
       "      <td>0</td>\n",
       "      <td>0</td>\n",
       "      <td>0</td>\n",
       "      <td>0</td>\n",
       "      <td>0</td>\n",
       "      <td>0</td>\n",
       "      <td>0</td>\n",
       "      <td>0</td>\n",
       "    </tr>\n",
       "    <tr>\n",
       "      <th>216</th>\n",
       "      <td>0</td>\n",
       "      <td>0</td>\n",
       "      <td>0</td>\n",
       "      <td>1</td>\n",
       "      <td>0</td>\n",
       "      <td>0</td>\n",
       "      <td>0</td>\n",
       "      <td>0</td>\n",
       "    </tr>\n",
       "    <tr>\n",
       "      <th>217</th>\n",
       "      <td>0</td>\n",
       "      <td>0</td>\n",
       "      <td>0</td>\n",
       "      <td>0</td>\n",
       "      <td>0</td>\n",
       "      <td>1</td>\n",
       "      <td>0</td>\n",
       "      <td>0</td>\n",
       "    </tr>\n",
       "  </tbody>\n",
       "</table>\n",
       "<p>218 rows × 8 columns</p>\n",
       "</div>"
      ],
      "text/plain": [
       "     Biologisch  Cocoa Horizons  Cocoa Life  Fairtrade  \\\n",
       "0             0               0           0          0   \n",
       "1             0               0           0          0   \n",
       "2             0               0           1          0   \n",
       "3             0               0           0          0   \n",
       "4             0               0           0          1   \n",
       "..          ...             ...         ...        ...   \n",
       "213           0               0           0          1   \n",
       "214           0               0           0          0   \n",
       "215           0               0           0          0   \n",
       "216           0               0           0          1   \n",
       "217           0               0           0          0   \n",
       "\n",
       "     Papier en/of hout van gecertificeerde herkomst  Rainforest Alliance  \\\n",
       "0                                                 0                    1   \n",
       "1                                                 0                    0   \n",
       "2                                                 0                    0   \n",
       "3                                                 0                    1   \n",
       "4                                                 0                    0   \n",
       "..                                              ...                  ...   \n",
       "213                                               0                    0   \n",
       "214                                               0                    1   \n",
       "215                                               0                    0   \n",
       "216                                               0                    0   \n",
       "217                                               0                    1   \n",
       "\n",
       "     Tony's Open Chain  UTZ  \n",
       "0                    0    0  \n",
       "1                    0    0  \n",
       "2                    0    0  \n",
       "3                    1    0  \n",
       "4                    0    0  \n",
       "..                 ...  ...  \n",
       "213                  0    0  \n",
       "214                  0    0  \n",
       "215                  0    0  \n",
       "216                  0    0  \n",
       "217                  0    0  \n",
       "\n",
       "[218 rows x 8 columns]"
      ]
     },
     "execution_count": 123,
     "metadata": {},
     "output_type": "execute_result"
    }
   ],
   "source": [
    "#Making dummies out of relavant features in the kenmerken column\n",
    "kenmerken = pd.get_dummies(df['kenmerken'].apply(pd.Series).stack(dropna=False)).sum(level=0)\n",
    "kenmerken['Rainforest Alliance'] = kenmerken['Rainforest Alliance'] + kenmerken['Rainforest Alliance people & nature']\n",
    "kenmerken.drop('Rainforest Alliance people & nature', axis=1, inplace=True)\n",
    "kenmerken.drop('Vegetarisch', axis=1, inplace=True)\n",
    "kenmerken.drop('Glutenvrij', axis=1, inplace=True)\n",
    "kenmerken.drop('Melkvrij', axis=1, inplace=True)\n",
    "kenmerken.drop('Groene Punt', axis=1, inplace=True)\n",
    "kenmerken.drop('Triman', axis=1, inplace=True)\n",
    "kenmerken.drop('Society of the Plastics Industry (SPI)', axis=1, inplace=True)\n",
    "kenmerken.drop('Sustainable Palm Oil RSPO Certified', axis=1, inplace=True)\n",
    "kenmerken.drop('Recyclebaar', axis=1, inplace=True)\n",
    "kenmerken.drop('Veganistisch', axis=1, inplace=True)\n",
    "kenmerken"
   ]
  },
  {
   "cell_type": "code",
   "execution_count": 124,
   "metadata": {},
   "outputs": [],
   "source": [
    "#join df and kenmerken dataframes on index\n",
    "df1 = pd.merge(df, kenmerken, left_index=True, right_index=True)"
   ]
  },
  {
   "cell_type": "code",
   "execution_count": 125,
   "metadata": {},
   "outputs": [],
   "source": [
    "# Insert the Milieu Centraal ratings\n",
    "mc = {'name': ['UTZ', 'Rainforest Alliance', 'Fairtrade', 'Fair for Life', 'Climate Neutral Certified', 'Biologisch', 'EKO', 'Demeter', 'Cocoa Horizons', 'Cocoa Life', \"Tony's Open Chain\"],\n",
    "        'environment': [5, 5, 3, 3, 3, 3, 3, 3, 2, 0, 0],\n",
    "        'social': [5, 5, 5, 5, 0, 0, 0, 2, 1, 0, 0],\n",
    "        'control': [5, 5, 5, 4, 4, 4, 4, 4, 1, 0, 0],\n",
    "        'transparency': [5, 5, 4, 4, 4, 4, 5, 4, 2, 0, 5]\n",
    "        }\n",
    "mc = pd.DataFrame.from_dict(mc)\n"
   ]
  },
  {
   "cell_type": "code",
   "execution_count": 126,
   "metadata": {},
   "outputs": [],
   "source": [
    "#calculate avg score social\n",
    "mc['avg_social'] = np.where(mc.social>0, (mc['social'] + mc['control'] + mc['transparency']) / 3, 0)\n",
    "mc['avg_social'] = np.where(mc.name==\"Tony's Open Chain\", (mc['social'] + mc['control'] + mc['transparency']) / 3, mc.avg_social)"
   ]
  },
  {
   "cell_type": "code",
   "execution_count": 127,
   "metadata": {},
   "outputs": [],
   "source": [
    "#calculate avg score environment\n",
    "mc['avg_environment'] = np.where(mc.environment>0, (mc['environment'] + mc['control'] + mc['transparency']) / 3, 0)\n",
    "#mc['avg_environment'] = np.where(mc.name==\"Tony's Open Chain\", (mc['social'] + mc['control'] + mc['transparency']) / 3, mc.avg_social)    "
   ]
  },
  {
   "cell_type": "code",
   "execution_count": 128,
   "metadata": {},
   "outputs": [],
   "source": [
    "#split social and environmental binary values into two seperate columns per certificate\n",
    "df1[\"UTZ_social\"] = df1[\"UTZ\"]\n",
    "df1[\"Biologisch_social\"] = df1[\"Biologisch\"]\n",
    "df1[\"Cocoa_Horizons_social\"] = df1[\"Cocoa Horizons\"]\n",
    "df1[\"Cocoa_Life_social\"] = df1[\"Cocoa Life\"]\n",
    "df1[\"Fairtrade_social\"] = df1[\"Fairtrade\"]\n",
    "df1[\"Rainforest_Alliance_social\"] = df1[\"Rainforest Alliance\"]\n",
    "df1[\"Tonys_Open_Chain_social\"] = df1[\"Tony's Open Chain\"]\n",
    "\n",
    "df1[\"UTZ_environment\"] = df1[\"UTZ\"]\n",
    "df1[\"Biologisch_environment\"] = df1[\"Biologisch\"]\n",
    "df1[\"Cocoa_Horizons_environment\"] = df1[\"Cocoa Horizons\"]\n",
    "df1[\"Cocoa_Life_environment\"] = df1[\"Cocoa Life\"]\n",
    "df1[\"Fairtrade_environment\"] = df1[\"Fairtrade\"]\n",
    "df1[\"Rainforest_Alliance_environment\"] = df1[\"Rainforest Alliance\"]\n",
    "df1[\"Tonys_Open_Chain_environment\"] = df1[\"Tony's Open Chain\"]"
   ]
  },
  {
   "cell_type": "code",
   "execution_count": 129,
   "metadata": {},
   "outputs": [],
   "source": [
    "#Insert overall ratingsvalue into the certificate columns in the df1 frame\n",
    "df1['UTZ_social'] = np.where(df1[\"UTZ\"]==1, mc.loc[mc['name'] == \"UTZ\", 'avg_social'].item(), 0)\n",
    "df1['Biologisch_social'] = np.where(df1[\"Biologisch\"]==1, mc.loc[mc['name'] == \"Biologisch\", 'avg_social'].item(), 0)\n",
    "df1['Cocoa_Horizons_social'] = np.where(df1[\"Cocoa Horizons\"]==1, mc.loc[mc['name'] == \"Cocoa Horizons\", 'avg_social'].item(), 0)\n",
    "df1['Cocoa_Life_social'] = np.where(df1[\"Cocoa Life\"]==1, mc.loc[mc['name'] == \"Cocoa Life\", 'avg_social'].item(), 0)\n",
    "df1['Fairtrade_social'] = np.where(df1[\"Fairtrade\"]==1, mc.loc[mc['name'] == \"Fairtrade\", 'avg_social'].item(), 0)\n",
    "df1['Rainforest_Alliance_social'] = np.where(df1[\"Rainforest Alliance\"]==1, mc.loc[mc['name'] == \"Rainforest Alliance\", 'avg_social'].item(), 0)\n",
    "df1['Tonys_Open_Chain_social'] = np.where(df1[\"Tony's Open Chain\"]==1, mc.loc[mc['name'] == \"Tony's Open Chain\", 'avg_social'].item(), 0)\n",
    "\n",
    "df1['UTZ_environment'] = np.where(df1[\"UTZ\"]==1, mc.loc[mc['name'] == \"UTZ\", 'avg_environment'].item(), 0)\n",
    "df1['Biologisch_environment'] = np.where(df1[\"Biologisch\"]==1, mc.loc[mc['name'] == \"Biologisch\", 'avg_environment'].item(), 0)\n",
    "df1['Cocoa_Horizons_environment'] = np.where(df1[\"Cocoa Horizons\"]==1, mc.loc[mc['name'] == \"Cocoa Horizons\", 'avg_environment'].item(), 0)\n",
    "df1['Cocoa_Life_environment'] = np.where(df1[\"Cocoa Life\"]==1, mc.loc[mc['name'] == \"Cocoa Life\", 'avg_environment'].item(), 0)\n",
    "df1['Fairtrade_environment'] = np.where(df1[\"Fairtrade\"]==1, mc.loc[mc['name'] == \"Fairtrade\", 'avg_environment'].item(), 0)\n",
    "df1['Rainforest_Alliance_environment'] = np.where(df1[\"Rainforest Alliance\"]==1, mc.loc[mc['name'] == \"Rainforest Alliance\", 'avg_environment'].item(), 0)\n",
    "df1['Tonys_Open_Chain_environment'] = np.where(df1[\"Tony's Open Chain\"]==1, mc.loc[mc['name'] == \"Tony's Open Chain\", 'avg_environment'].item(), 0)"
   ]
  },
  {
   "cell_type": "code",
   "execution_count": 130,
   "metadata": {},
   "outputs": [],
   "source": [
    "#Round the certificate scores to two decimals\n",
    "df1[\"UTZ_social\"] = df1[\"UTZ_social\"].round(decimals=2)\n",
    "df1[\"Biologisch_social\"] = df1[\"Biologisch_social\"].round(decimals=2)\n",
    "df1[\"Cocoa_Horizons_social\"] = df1[\"Cocoa_Horizons_social\"].round(decimals=2)\n",
    "df1[\"Cocoa_Life_social\"] = df1[\"Cocoa_Life_social\"].round(decimals=2)\n",
    "df1[\"Fairtrade_social\"] = df1[\"Fairtrade_social\"].round(decimals=2)\n",
    "df1[\"Rainforest_Alliance_social\"] = df1[\"Rainforest_Alliance_social\"].round(decimals=2)\n",
    "df1[\"Tonys_Open_Chain_social\"] = df1[\"Tonys_Open_Chain_social\"].round(decimals=2)\n",
    "\n",
    "df1[\"UTZ_environment\"] = df1[\"UTZ_environment\"].round(decimals=2)\n",
    "df1[\"Biologisch_environment\"] = df1[\"Biologisch_environment\"].round(decimals=2)\n",
    "df1[\"Cocoa_Horizons_environment\"] = df1[\"Cocoa_Horizons_environment\"].round(decimals=2)\n",
    "df1[\"Cocoa_Life_environment\"] = df1[\"Cocoa_Life_environment\"].round(decimals=2)\n",
    "df1[\"Fairtrade_environment\"] = df1[\"Fairtrade_environment\"].round(decimals=2)\n",
    "df1[\"Rainforest_Alliance_environment\"] = df1[\"Rainforest_Alliance_environment\"].round(decimals=2)\n",
    "df1[\"Tonys_Open_Chain_environment\"] = df1[\"Tonys_Open_Chain_environment\"].round(decimals=2)"
   ]
  },
  {
   "cell_type": "code",
   "execution_count": 131,
   "metadata": {},
   "outputs": [],
   "source": [
    "#Calculate overal social & environmental rating\n",
    "df1[\"social_rating\"] = (df1[\"UTZ_social\"] + df1[\"Biologisch_social\"] + df1[\"Cocoa_Horizons_social\"] + df1[\"Cocoa_Life_social\"] + df1[\"Fairtrade_social\"] + df1[\"Rainforest_Alliance_social\"]\n",
    " + df1[\"Tonys_Open_Chain_social\"])\n",
    "\n",
    "df1[\"environment_rating\"] = (df1[\"UTZ_environment\"] + df1[\"Biologisch_environment\"] + df1[\"Cocoa_Horizons_environment\"] + df1[\"Cocoa_Life_environment\"] + df1[\"Fairtrade_environment\"]\n",
    " + df1[\"Rainforest_Alliance_environment\"] + df1[\"Tonys_Open_Chain_environment\"])"
   ]
  },
  {
   "cell_type": "markdown",
   "metadata": {},
   "source": [
    "#### Clean ingredienten column. turn into lists and build content based recommendation system\n"
   ]
  },
  {
   "cell_type": "code",
   "execution_count": 132,
   "metadata": {},
   "outputs": [
    {
     "name": "stderr",
     "output_type": "stream",
     "text": [
      "C:\\Users\\Tarik\\AppData\\Local\\Temp\\ipykernel_5892\\2914274921.py:8: FutureWarning: The default value of regex will change from True to False in a future version.\n",
      "  df1['ingredienten'] = df1['ingredienten'].str.replace(\"\\d+\", '')\n",
      "C:\\Users\\Tarik\\AppData\\Local\\Temp\\ipykernel_5892\\2914274921.py:10: FutureWarning: The default value of regex will change from True to False in a future version.\n",
      "  df1['ingredienten'] = df1['ingredienten'].str.replace(\"rainforest alliance gecertificeerd. zie voor meer informatie ra.org\", '')\n",
      "C:\\Users\\Tarik\\AppData\\Local\\Temp\\ipykernel_5892\\2914274921.py:11: FutureWarning: The default value of regex will change from True to False in a future version.\n",
      "  df1['ingredienten'] = df1['ingredienten'].str.replace(\"rainforest alliance gecertificeerd. lees meer op ra.org\", '')\n",
      "C:\\Users\\Tarik\\AppData\\Local\\Temp\\ipykernel_5892\\2914274921.py:12: FutureWarning: The default value of regex will change from True to False in a future version.\n",
      "  df1['ingredienten'] = df1['ingredienten'].str.replace(\"rainforest alliance gecertificeerd. www.ra.org.\", '')\n",
      "C:\\Users\\Tarik\\AppData\\Local\\Temp\\ipykernel_5892\\2914274921.py:13: FutureWarning: The default value of regex will change from True to False in a future version.\n",
      "  df1['ingredienten'] = df1['ingredienten'].str.replace(\"visit info.fairtrade.net/sourcing\", '')\n",
      "C:\\Users\\Tarik\\AppData\\Local\\Temp\\ipykernel_5892\\2914274921.py:16: FutureWarning: The default value of regex will change from True to False in a future version.\n",
      "  df1['ingredienten'] = df1['ingredienten'].str.replace(\"www.ra.org\", '')\n",
      "C:\\Users\\Tarik\\AppData\\Local\\Temp\\ipykernel_5892\\2914274921.py:17: FutureWarning: The default value of regex will change from True to False in a future version.\n",
      "  df1['ingredienten'] = df1['ingredienten'].str.replace(\"ra.org\", '')\n",
      "C:\\Users\\Tarik\\AppData\\Local\\Temp\\ipykernel_5892\\2914274921.py:21: FutureWarning: The default value of regex will change from True to False in a future version. In addition, single character regular expressions will *not* be treated as literal strings when regex=True.\n",
      "  df1['ingredienten'] = df1['ingredienten'].str.replace(\".\", ' ')\n"
     ]
    }
   ],
   "source": [
    "#Clean ingredienten string\n",
    "df1['ingredienten'] = df1['ingredienten'].str.lower()\n",
    "df1['ingredienten'] = df1['ingredienten'].str.replace('<span class=\"product-info-ingredients_containsallergen__1slys\">', \"\")\n",
    "df1['ingredienten'] = df1['ingredienten'].str.replace('<span>', \"\")\n",
    "df1['ingredienten'] = df1['ingredienten'].str.replace('</span>', \"\")\n",
    "df1['ingredienten'] = df1['ingredienten'].str.replace(\"ingrediënten:\", \"\")\n",
    "df1['ingredienten'] = df1['ingredienten'].str.replace(\"ingrediënten\", \"\")\n",
    "df1['ingredienten'] = df1['ingredienten'].str.replace(\"\\d+\", '')\n",
    "df1['ingredienten'] = df1['ingredienten'].str.replace(\"%\", '')\n",
    "df1['ingredienten'] = df1['ingredienten'].str.replace(\"rainforest alliance gecertificeerd. zie voor meer informatie ra.org\", '')\n",
    "df1['ingredienten'] = df1['ingredienten'].str.replace(\"rainforest alliance gecertificeerd. lees meer op ra.org\", '')\n",
    "df1['ingredienten'] = df1['ingredienten'].str.replace(\"rainforest alliance gecertificeerd. www.ra.org.\", '')\n",
    "df1['ingredienten'] = df1['ingredienten'].str.replace(\"visit info.fairtrade.net/sourcing\", '')\n",
    "df1['ingredienten'] = df1['ingredienten'].str.replace(\"¹\", '')\n",
    "df1['ingredienten'] = df1['ingredienten'].str.replace(\"ngrediënten:\", '')\n",
    "df1['ingredienten'] = df1['ingredienten'].str.replace(\"www.ra.org\", '')\n",
    "df1['ingredienten'] = df1['ingredienten'].str.replace(\"ra.org\", '')\n",
    "df1['ingredienten'] = df1['ingredienten'].str.replace(\"'\", '')\n",
    "df1['ingredienten'] = df1['ingredienten'].str.replace(\":\", '')\n",
    "df1['ingredienten'] = df1['ingredienten'].str.replace(\";\", '')\n",
    "df1['ingredienten'] = df1['ingredienten'].str.replace(\".\", ' ')\n",
    "#df1['ingredienten'] = df1['ingredienten'].str.replace(\",\", ' ')\n",
    "df1['ingredienten'] = df1['ingredienten'].str.replace(\" \", ',')\n",
    "df1['ingredienten'] = df1['ingredienten'].str.replace(\"*\", \"\", regex=True)\n",
    "df1['ingredienten'] = df1['ingredienten'].str.replace(\"°\", \"\", regex=True)\n",
    "df1['ingredienten'] = df1['ingredienten'].str.replace(\"<br>\", \"\", regex=True)\n",
    "df1['ingredienten'] = df1['ingredienten'].str.replace(r\"\\(.*\\)\",\"\", regex=True)"
   ]
  },
  {
   "cell_type": "code",
   "execution_count": 133,
   "metadata": {},
   "outputs": [
    {
     "name": "stderr",
     "output_type": "stream",
     "text": [
      "C:\\Users\\Tarik\\AppData\\Local\\Temp\\ipykernel_5892\\3916115253.py:8: FutureWarning: The default value of regex will change from True to False in a future version.\n",
      "  df1['omschrijving'] = df1['omschrijving'].str.replace(\"\\d+\", '')\n",
      "C:\\Users\\Tarik\\AppData\\Local\\Temp\\ipykernel_5892\\3916115253.py:10: FutureWarning: The default value of regex will change from True to False in a future version.\n",
      "  df1['omschrijving'] = df1['omschrijving'].str.replace(\"rainforest alliance gecertificeerd. zie voor meer informatie ra.org\", '')\n",
      "C:\\Users\\Tarik\\AppData\\Local\\Temp\\ipykernel_5892\\3916115253.py:11: FutureWarning: The default value of regex will change from True to False in a future version.\n",
      "  df1['omschrijving'] = df1['omschrijving'].str.replace(\"rainforest alliance gecertificeerd. lees meer op ra.org\", '')\n",
      "C:\\Users\\Tarik\\AppData\\Local\\Temp\\ipykernel_5892\\3916115253.py:12: FutureWarning: The default value of regex will change from True to False in a future version.\n",
      "  df1['omschrijving'] = df1['omschrijving'].str.replace(\"rainforest alliance gecertificeerd. www.ra.org.\", '')\n",
      "C:\\Users\\Tarik\\AppData\\Local\\Temp\\ipykernel_5892\\3916115253.py:13: FutureWarning: The default value of regex will change from True to False in a future version.\n",
      "  df1['omschrijving'] = df1['omschrijving'].str.replace(\"visit info.fairtrade.net/sourcing\", '')\n",
      "C:\\Users\\Tarik\\AppData\\Local\\Temp\\ipykernel_5892\\3916115253.py:16: FutureWarning: The default value of regex will change from True to False in a future version.\n",
      "  df1['omschrijving'] = df1['omschrijving'].str.replace(\"www.ra.org\", '')\n",
      "C:\\Users\\Tarik\\AppData\\Local\\Temp\\ipykernel_5892\\3916115253.py:17: FutureWarning: The default value of regex will change from True to False in a future version.\n",
      "  df1['omschrijving'] = df1['omschrijving'].str.replace(\"ra.org\", '')\n",
      "C:\\Users\\Tarik\\AppData\\Local\\Temp\\ipykernel_5892\\3916115253.py:19: FutureWarning: The default value of regex will change from True to False in a future version. In addition, single character regular expressions will *not* be treated as literal strings when regex=True.\n",
      "  df1['omschrijving'] = df1['omschrijving'].str.replace(\".\", ' ')\n"
     ]
    }
   ],
   "source": [
    "#Clean omschrijvingen string\n",
    "df1['omschrijving'] = df1['omschrijving'].str.lower()\n",
    "df1['omschrijving'] = df1['omschrijving'].str.replace('<span class=\"product-info-ingredients_containsallergen__1slys\">', \"\")\n",
    "df1['omschrijving'] = df1['omschrijving'].str.replace('<span>', \"\")\n",
    "df1['omschrijving'] = df1['omschrijving'].str.replace('</span>', \"\")\n",
    "df1['omschrijving'] = df1['omschrijving'].str.replace(\"ingrediënten:\", \"\")\n",
    "df1['omschrijving'] = df1['omschrijving'].str.replace(\"ingrediënten\", \"\")\n",
    "df1['omschrijving'] = df1['omschrijving'].str.replace(\"\\d+\", '')\n",
    "df1['omschrijving'] = df1['omschrijving'].str.replace(\"%\", '')\n",
    "df1['omschrijving'] = df1['omschrijving'].str.replace(\"rainforest alliance gecertificeerd. zie voor meer informatie ra.org\", '')\n",
    "df1['omschrijving'] = df1['omschrijving'].str.replace(\"rainforest alliance gecertificeerd. lees meer op ra.org\", '')\n",
    "df1['omschrijving'] = df1['omschrijving'].str.replace(\"rainforest alliance gecertificeerd. www.ra.org.\", '')\n",
    "df1['omschrijving'] = df1['omschrijving'].str.replace(\"visit info.fairtrade.net/sourcing\", '')\n",
    "df1['omschrijving'] = df1['omschrijving'].str.replace(\"¹\", '')\n",
    "df1['omschrijving'] = df1['omschrijving'].str.replace(\"ngrediënten:\", '')\n",
    "df1['omschrijving'] = df1['omschrijving'].str.replace(\"www.ra.org\", '')\n",
    "df1['omschrijving'] = df1['omschrijving'].str.replace(\"ra.org\", '')\n",
    "df1['omschrijving'] = df1['omschrijving'].str.replace(\"'\", '')\n",
    "df1['omschrijving'] = df1['omschrijving'].str.replace(\".\", ' ')\n",
    "df1['omschrijving'] = df1['omschrijving'].str.replace(\",\", ' ')\n",
    "df1['omschrijving'] = df1['omschrijving'].str.replace(\":\", ' ')\n",
    "df1['omschrijving'] = df1['omschrijving'].str.replace(\";\", ' ')\n",
    "df1['omschrijving'] = df1['omschrijving'].str.replace(\" \", ',')\n",
    "df1['omschrijving'] = df1['omschrijving'].str.replace(\"gecertificeerte\", ' ')\n",
    "df1['omschrijving'] = df1['omschrijving'].str.replace(\"gecertificeerte\", ' ')\n",
    "df1['omschrijving'] = df1['omschrijving'].str.replace(\"*\", \"\", regex=True)\n",
    "df1['omschrijving'] = df1['omschrijving'].str.replace(\"°\", \"\", regex=True)\n",
    "df1['omschrijving'] = df1['omschrijving'].str.replace(\"<br>\", \"\", regex=True)\n",
    "df1['omschrijving'] = df1['omschrijving'].str.replace(r\"\\(.*\\)\",\"\", regex=True)"
   ]
  },
  {
   "cell_type": "code",
   "execution_count": 134,
   "metadata": {},
   "outputs": [],
   "source": [
    "#Make new data frame out of relevant columns for the recommender system\n",
    "df = df1[['product_naam', 'omschrijving', 'ingredienten', 'kenmerken', 'social_rating','environment_rating']]"
   ]
  },
  {
   "cell_type": "markdown",
   "metadata": {},
   "source": [
    "### Recommender System"
   ]
  },
  {
   "cell_type": "code",
   "execution_count": 135,
   "metadata": {},
   "outputs": [],
   "source": [
    "#Place a index in the data frame\n",
    "df.reset_index(inplace=True)"
   ]
  },
  {
   "cell_type": "code",
   "execution_count": 136,
   "metadata": {},
   "outputs": [
    {
     "name": "stderr",
     "output_type": "stream",
     "text": [
      "C:\\Users\\Tarik\\AppData\\Local\\Temp\\ipykernel_5892\\4231555379.py:4: SettingWithCopyWarning: \n",
      "A value is trying to be set on a copy of a slice from a DataFrame.\n",
      "Try using .loc[row_indexer,col_indexer] = value instead\n",
      "\n",
      "See the caveats in the documentation: https://pandas.pydata.org/pandas-docs/stable/user_guide/indexing.html#returning-a-view-versus-a-copy\n",
      "  df[['social_rating', 'environment_rating']] = (df[['social_rating', 'environment_rating']] - x) / (y - x) * (b - a) + a\n"
     ]
    }
   ],
   "source": [
    "#Scaling the social_ratings and environment_ratings from 0 to 1\n",
    "a, b = 0, 1\n",
    "x, y = df[['social_rating', 'environment_rating']].min(), df[['social_rating', 'environment_rating']].max()\n",
    "df[['social_rating', 'environment_rating']] = (df[['social_rating', 'environment_rating']] - x) / (y - x) * (b - a) + a"
   ]
  },
  {
   "cell_type": "code",
   "execution_count": 137,
   "metadata": {},
   "outputs": [],
   "source": [
    "#Manually make a object containing the stop_words\n",
    "stop_word = [\"aan\",\"aangaande\",\"aangezien\",\"achte\",\"achter\",\"achterna\",\"af\",\"afgelopen\",\"al\",\"aldaar\",\"aldus\",\"alhoewel\",\"alias\",\"alle\",\"allebei\",\"alleen\",\"alles\",\"als\",\"alsnog\",\"altijd\",\n",
    "\"altoos\",\"ander\",\"andere\",\"anders\",\"anderszins\",\"beetje\",\"behalve\",\"behoudens\",\"beide\",\"beiden\",\"ben\",\"beneden\",\"bent\",\"bepaald\",\"betreffende\",\"bij\",\"bijna\",\"bijv\",\"binnen\",\"binnenin\",\n",
    "\"blijkbaar\",\"blijken\",\"boven\",\"bovenal\",\"bovendien\",\"bovengenoemd\",\"bovenstaand\",\"bovenvermeld\",\"buiten\",\"bv\",\"daar\",\"daardoor\",\"daarheen\",\"daarin\",\"daarna\",\"daarnet\",\"daarom\",\"daarop\",\n",
    "\"daaruit\",\"daarvanlangs\",\"dan\",\"dat\",\"de\",\"deden\",\"deed\",\"der\",\"derde\",\"derhalve\",\"dertig\",\"deze\",\"dhr\",\"die\",\"dikwijls\",\"dit\",\"doch\",\"doe\",\"doen\",\"doet\",\"door\",\"doorgaand\",\"drie\",\"duizend\",\n",
    "\"dus\",\"echter\",\"een\",\"eens\",\"eer\",\"eerdat\",\"eerder\",\"eerlang\",\"eerst\",\"eerste\",\"eigen\",\"eigenlijk\",\"elk\",\"elke\",\"en\",\"enig\",\"enige\",\"enigszins\",\"enkel\",\"er\",\"erdoor\",\"erg\",\"ergens\",\"etc\",\n",
    "\"etcetera\",\"even\",\"eveneens\",\"evenwel\",\"gauw\",\"ge\",\"gedurende\",\"geen\",\"gehad\",\"gekund\",\"geleden\",\"gelijk\",\"gemoeten\",\"gemogen\",\"genoeg\",\"geweest\",\"gewoon\",\"gewoonweg\",\"haar\",\"haarzelf\",\"had\",\n",
    "\"hadden\",\"hare\",\"heb\",\"hebben\",\"hebt\",\"hedden\",\"heeft\",\"heel\",\"hem\",\"hemzelf\",\"hen\",\"het\",\"hetzelfde\",\"hier\",\"hierbeneden\",\"hierboven\",\"hierin\",\"hierna\",\"hierom\",\"hij\",\"hijzelf\",\"hoe\",\"hoewel\",\n",
    "\"honderd\",\"hun\",\"hunne\",\"ieder\",\"iedere\",\"iedereen\",\"iemand\",\"iets\",\"ik\",\"ikzelf\",\"in\",\"inderdaad\",\"inmiddels\",\"intussen\",\"inzake\",\"is\",\"ja\",\"je\",\"jezelf\",\"jij\",\"jijzelf\",\"jou\",\"jouw\",\"jouwe\",\n",
    "\"juist\",\"jullie\",\"kan\",\"klaar\",\"kon\",\"konden\",\"krachtens\",\"kun\",\"kunnen\",\"kunt\",\"laatst\",\"later\",\"liever\",\"lijken\",\"lijkt\",\"maak\",\"maakt\",\"maakte\",\"maakten\",\"maar\",\"mag\",\"maken\",\"me\",\"meer\",\n",
    "\"meest\",\"meestal\",\"men\",\"met\",\"mevr\",\"mezelf\",\"mij\",\"mijn\",\"mijnent\",\"mijner\",\"mijzelf\",\"minder\",\"miss\",\"misschien\",\"missen\",\"mits\",\"mocht\",\"mochten\",\"moest\",\"moesten\",\"moet\",\"moeten\",\"mogen\",\n",
    "\"mr\",\"mrs\",\"mw\",\"na\",\"naar\",\"nadat\",\"nam\",\"namelijk\",\"nee\",\"neem\",\"negen\",\"nemen\",\"nergens\",\"net\",\"niemand\",\"niet\",\"niets\",\"niks\",\"noch\",\"nochtans\",\"nog\",\"nogal\",\"nooit\",\"nu\",\"nv\",\"of\",\"ofschoon\",\n",
    "\"om\",\"omdat\",\"omhoog\",\"omlaag\",\"omstreeks\",\"omtrent\",\"omver\",\"ondanks\",\"onder\",\"ondertussen\",\"ongeveer\",\"ons\",\"onszelf\",\"onze\",\"onzeker\",\"ooit\",\"ook\",\"op\",\"opnieuw\",\"opzij\",\"over\",\"overal\",\"overeind\",\n",
    "\"overige\",\"overigens\",\"paar\",\"pas\",\"per\",\"precies\",\"recent\",\"redelijk\",\"reeds\",\"rond\",\"rondom\",\"samen\",\"sedert\",\"sinds\",\"sindsdien\",\"slechts\",\"sommige\",\"spoedig\",\"steeds\",\"tamelijk\",\"te\",\"tegen\",\"tegenover\",\n",
    "\"tenzij\",\"terwijl\",\"thans\",\"tien\",\"tiende\",\"tijdens\",\"tja\",\"toch\",\"toe\",\"toen\",\"toenmaals\",\"toenmalig\",\"tot\",\"totdat\",\"tussen\",\"twee\",\"tweede\",\"u\",\"uit\",\"uitgezonderd\",\"uw\",\"vaak\",\"vaakwat\",\"van\",\"vanaf\",\"vandaan\",\n",
    "\"vanuit\",\"vanwege\",\"veel\",\"veeleer\",\"veertig\",\"verder\",\"verscheidene\",\"verschillende\",\"vervolgens\",\"via\",\"vier\",\"vierde\",\"vijf\",\"vijfde\",\"vijftig\",\"vol\",\"volgend\",\"volgens\",\"voor\",\"vooraf\",\"vooral\",\"vooralsnog\",\n",
    "\"voorbij\",\"voordat\",\"voordezen\",\"voordien\",\"voorheen\",\"voorop\",\"voorts\",\"vooruit\",\"vrij\",\"vroeg\",\"waar\",\"waarom\",\"waarschijnlijk\",\"wanneer\",\"want\",\"waren\",\"was\",\"wat\",\"we\",\"wederom\",\"weer\",\"weg\",\"wegens\",\"weinig\",\n",
    "\"wel\",\"weldra\",\"welk\",\"welke\",\"werd\",\"werden\",\"werder\",\"wezen\",\"whatever\",\"wie\",\"wiens\",\"wier\",\"wij\",\"wijzelf\",\"wil\",\"wilden\",\"willen\",\"word\",\"worden\",\"wordt\",\"zal\",\"ze\",\"zei\",\"zeker\",\"zelf\",\"zelfde\",\"zelfs\",\"zes\",\n",
    "\"zeven\",\"zich\",\"zichzelf\",\"zij\",\"zijn\",\"zijne\",\"zijzelf\",\"zo\",\"zoals\",\"zodat\",\"zodra\",\"zonder\",\"zou\",\"zouden\",\"zowat\",\"zulk\",\"zulke\",\"zullen\",\"zult\",'g','kg','mg','cm','p','per','l','cl','ml','ten','minste','gram',\n",
    "'kilo','kilogram','millie','milliegram','centi','centigram', 'liter', 'andere', 'bevatten', 'kan', 'landbouw', '  '\n",
    "'sporen', 'uit', 'sporen', 'rainforest', 'alliance', 'fairtrade', 'gecertificeerd', 'certificeren', 'certificaat', ':', ';', 'mogelijk', 'bevat', 'voor', 'meer', 'informatie', 'ra.org', '', 'waarvan', \"tony's chocolonely\",\n",
    "\"ritter sport\",\"côte d'or\",\"delicata\",\"extra\",\"fijne\",\"fijn\",\"lekker\",\"lekkere\",\"open\",\"chain\",\"opgezet\",\"www.tonysopenchain.com\",\"samenwerkingsprincipes\",\"werken\",\"werkt\",\"lees\",\"meer\",\"minder\",\"op\", \"onder\", \"heerlijk\",\n",
    "\"door\", \"cocoa life\", \"creeert\", \"krachtig\", \"onmiskenbare\", \"Cote dor\", \"bouwt\", \"zorgvuldige\", \"selectie\", \"ongerept\", \"dankt\", \"cocoa horizons\", \"toegevoegde\", \"toegevoegd\", \"reep\", 'milka', 'nestlé', 'nestle',\n",
    "]"
   ]
  },
  {
   "cell_type": "code",
   "execution_count": 138,
   "metadata": {},
   "outputs": [
    {
     "name": "stderr",
     "output_type": "stream",
     "text": [
      "C:\\Users\\Tarik\\AppData\\Local\\Temp\\ipykernel_5892\\2575217716.py:4: SettingWithCopyWarning: \n",
      "A value is trying to be set on a copy of a slice from a DataFrame.\n",
      "Try using .loc[row_indexer,col_indexer] = value instead\n",
      "\n",
      "See the caveats in the documentation: https://pandas.pydata.org/pandas-docs/stable/user_guide/indexing.html#returning-a-view-versus-a-copy\n",
      "  df[feature] = df[feature].fillna('')\n"
     ]
    }
   ],
   "source": [
    "#Fill missing features with '' so the machine will not give problems if there are no values\n",
    "features = ['ingredienten', 'omschrijving']\n",
    "for feature in features:\n",
    "    df[feature] = df[feature].fillna('')"
   ]
  },
  {
   "cell_type": "code",
   "execution_count": 139,
   "metadata": {},
   "outputs": [
    {
     "name": "stderr",
     "output_type": "stream",
     "text": [
      "C:\\Users\\Tarik\\AppData\\Local\\Temp\\ipykernel_5892\\4008517181.py:4: SettingWithCopyWarning: \n",
      "A value is trying to be set on a copy of a slice from a DataFrame.\n",
      "Try using .loc[row_indexer,col_indexer] = value instead\n",
      "\n",
      "See the caveats in the documentation: https://pandas.pydata.org/pandas-docs/stable/user_guide/indexing.html#returning-a-view-versus-a-copy\n",
      "  df[\"combined_features\"] = df.apply(combined_features, axis =1)\n"
     ]
    }
   ],
   "source": [
    "#combine the features into one text and make a seperate column\n",
    "def combined_features(row):\n",
    "    return row['omschrijving']+\" \"+row['ingredienten'] \n",
    "df[\"combined_features\"] = df.apply(combined_features, axis =1)"
   ]
  },
  {
   "cell_type": "code",
   "execution_count": 140,
   "metadata": {},
   "outputs": [
    {
     "name": "stderr",
     "output_type": "stream",
     "text": [
      "C:\\Users\\Tarik\\AppData\\Local\\Temp\\ipykernel_5892\\3122974727.py:17: SettingWithCopyWarning: \n",
      "A value is trying to be set on a copy of a slice from a DataFrame.\n",
      "Try using .loc[row_indexer,col_indexer] = value instead\n",
      "\n",
      "See the caveats in the documentation: https://pandas.pydata.org/pandas-docs/stable/user_guide/indexing.html#returning-a-view-versus-a-copy\n",
      "  df[\"combined_features\"] = combined_features1\n",
      "C:\\Users\\Tarik\\AppData\\Local\\Temp\\ipykernel_5892\\3122974727.py:19: SettingWithCopyWarning: \n",
      "A value is trying to be set on a copy of a slice from a DataFrame.\n",
      "Try using .loc[row_indexer,col_indexer] = value instead\n",
      "\n",
      "See the caveats in the documentation: https://pandas.pydata.org/pandas-docs/stable/user_guide/indexing.html#returning-a-view-versus-a-copy\n",
      "  df[\"combined_features\"] = df[\"combined_features\"].apply(lambda x: ' '.join(x))\n"
     ]
    }
   ],
   "source": [
    "#Make a list from the combined features, remove all stopwords and empty strings, and return back into a string value\n",
    "combined_features1 = df[\"combined_features\"]\n",
    "combined_features1 = df[\"combined_features\"].str.split(',')\n",
    "combined_features1 = combined_features1.values.tolist()\n",
    "\n",
    "def check_about(lists:list):\n",
    "    for i,j in enumerate(lists):\n",
    "        if isinstance(j,list):\n",
    "            check_about(j)\n",
    "        else:\n",
    "            lists[i]=lists[i].strip(' ')\n",
    "    return lists\n",
    "combined_features1 = check_about(combined_features1)\n",
    "\n",
    "combined_features1 = [[x for x in y if x not in stop_word] for y in combined_features1]\n",
    "\n",
    "df[\"combined_features\"] = combined_features1\n",
    "\n",
    "df[\"combined_features\"] = df[\"combined_features\"].apply(lambda x: ' '.join(x))"
   ]
  },
  {
   "cell_type": "code",
   "execution_count": 141,
   "metadata": {},
   "outputs": [],
   "source": [
    "#Use CountVectorizer function to count all occurences of a certain word\n",
    "cv = CountVectorizer()\n",
    "count_matrix = cv.fit_transform(df[\"combined_features\"])\n",
    "#print(\"Count Matrix:\", count_matrix.toarray())"
   ]
  },
  {
   "cell_type": "code",
   "execution_count": 142,
   "metadata": {},
   "outputs": [],
   "source": [
    "#Apply a cosine similarity matrix\n",
    "cosine_sim = cosine_similarity(count_matrix)"
   ]
  },
  {
   "cell_type": "code",
   "execution_count": 143,
   "metadata": {},
   "outputs": [],
   "source": [
    "#Assign social rating en environment rating to an object\n",
    "social_rating = df.social_rating \n",
    "environment_rating = df.environment_rating"
   ]
  },
  {
   "cell_type": "code",
   "execution_count": 144,
   "metadata": {},
   "outputs": [],
   "source": [
    "#Make the system recognize the inserted productname (and other chocolate bars) by their index\n",
    "## Insert the name of the chocolate bar you want the recommender system to work on in customers_chocolate\n",
    "customers_chocolate = \"Verkade Tablet melk hazelnoot\"\n",
    "def get_index_from_title(title):\n",
    "    return df[df.product_naam == title]['index'].values[0]\n",
    "chocolate_index = get_index_from_title(customers_chocolate)"
   ]
  },
  {
   "cell_type": "code",
   "execution_count": 145,
   "metadata": {},
   "outputs": [
    {
     "name": "stderr",
     "output_type": "stream",
     "text": [
      "C:\\Users\\Tarik\\AppData\\Local\\Temp\\ipykernel_5892\\194519634.py:3: SettingWithCopyWarning: \n",
      "A value is trying to be set on a copy of a slice from a DataFrame.\n",
      "Try using .loc[row_indexer,col_indexer] = value instead\n",
      "\n",
      "See the caveats in the documentation: https://pandas.pydata.org/pandas-docs/stable/user_guide/indexing.html#returning-a-view-versus-a-copy\n",
      "  df['similarity_score'] = cosine_sim[chocolate_index]\n"
     ]
    }
   ],
   "source": [
    "#Make the similarity equation here. The weights can be adjusted.\n",
    "similar_chocolate = list(enumerate(((cosine_sim[chocolate_index]*0.4) + (social_rating*0.3) + (environment_rating*0.3))))\n",
    "df['similarity_score'] = cosine_sim[chocolate_index]"
   ]
  },
  {
   "cell_type": "code",
   "execution_count": 146,
   "metadata": {},
   "outputs": [],
   "source": [
    "#Sort rows based on similarity (from high to low)\n",
    "sorted_similar_chocolate = sorted(similar_chocolate, key=lambda x:x[1], reverse=True)"
   ]
  },
  {
   "cell_type": "code",
   "execution_count": 147,
   "metadata": {},
   "outputs": [
    {
     "name": "stdout",
     "output_type": "stream",
     "text": [
      "Chocolate =  ['AH Biologisch Tablet melk-hazelnoot' 1.0 1.0 0.20158105227158785\n",
      " list(['Biologisch', 'Fairtrade', 'Rainforest Alliance people & nature', 'Vegetarisch', 'Glutenvrij'])]\n",
      "Chocolate =  ['AH Biologisch Pure chocolade met hazelnoot' 1.0 1.0 0.18164975363768868\n",
      " list(['Biologisch', 'Fairtrade', 'Rainforest Alliance people & nature', 'Vegetarisch', 'Glutenvrij'])]\n",
      "Chocolate =  ['Verkade Tablet melk hazelnoot' 0.48293691830403307 0.31570639305445936\n",
      " 0.9999999999999998\n",
      " list(['Recyclebaar', 'Fairtrade', 'Papier en/of hout van gecertificeerde herkomst'])]\n",
      "Chocolate =  ['Ritter Sport Mini nut selection' 0.5170630816959669 0.39463299131807417\n",
      " 0.7453559924999299 list(['Groene Punt', 'Rainforest Alliance'])]\n",
      "Chocolate =  ['Ritter Sport Melk hazelnoot' 0.5170630816959669 0.39463299131807417\n",
      " 0.6982972487551754\n",
      " list(['Groene Punt', 'Rainforest Alliance', 'Society of the Plastics Industry (SPI)'])]\n",
      "Chocolate =  ['Verkade Tablet melk' 0.48293691830403307 0.31570639305445936\n",
      " 0.7348469228349533\n",
      " list(['Recyclebaar', 'Fairtrade', 'Papier en/of hout van gecertificeerde herkomst'])]\n",
      "Chocolate =  ['Tellus Milk chocolate for the planet' 0.5170630816959669\n",
      " 0.39463299131807417 0.6454972243679026\n",
      " list(['Papier en/of hout van gecertificeerde herkomst', 'Recyclebaar', 'Rainforest Alliance'])]\n",
      "Chocolate =  ['Tellus Milk nougat choc for the planet' 0.5170630816959669\n",
      " 0.39463299131807417 0.6350852961085883\n",
      " list(['Papier en/of hout van gecertificeerde herkomst', 'Recyclebaar', 'Rainforest Alliance people & nature'])]\n",
      "Chocolate =  ['Verkade Tablet lichte melk pistache' 0.48293691830403307\n",
      " 0.31570639305445936 0.7108186533109108\n",
      " list(['Recyclebaar', 'Fairtrade', 'Papier en/of hout van gecertificeerde herkomst'])]\n",
      "Chocolate =  [\"L'Atelier Melkchocolade rozijnen & amandelen\" 0.5170630816959669\n",
      " 0.39463299131807417 0.5680375574437544 list(['Groene Punt', 'UTZ'])]\n",
      "Chocolate =  [\"Tony's Chocolonely Melk\" 0.48293691830403307 0.31570639305445936\n",
      " 0.6454972243679026 list(['Fairtrade'])]\n"
     ]
    }
   ],
   "source": [
    "#Get the top 10 recommendations\n",
    "def get_title_from_index(index):\n",
    "    return df[df.index == index][[\"product_naam\", 'social_rating', 'environment_rating', 'similarity_score', 'kenmerken']].values[0]\n",
    "i=0\n",
    "for chocolate in sorted_similar_chocolate:\n",
    "    print('Chocolate = ', get_title_from_index(chocolate[0]))\n",
    "    i=i+1\n",
    "    if i>10:\n",
    "        break"
   ]
  }
 ],
 "metadata": {
  "interpreter": {
   "hash": "d580b9be41d3d2e32cc023b39c92a5176e87409b932b8373b8c5d60be16d27cd"
  },
  "kernelspec": {
   "display_name": "Python 3.8.13 ('AlbertHeijnChocolatebars')",
   "language": "python",
   "name": "python3"
  },
  "language_info": {
   "codemirror_mode": {
    "name": "ipython",
    "version": 3
   },
   "file_extension": ".py",
   "mimetype": "text/x-python",
   "name": "python",
   "nbconvert_exporter": "python",
   "pygments_lexer": "ipython3",
   "version": "3.8.13"
  },
  "orig_nbformat": 4
 },
 "nbformat": 4,
 "nbformat_minor": 2
}
